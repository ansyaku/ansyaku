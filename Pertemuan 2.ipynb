{
  "cells": [
    {
      "cell_type": "markdown",
      "id": "addeee83-9938-4a78-9d14-5e0a2e83a170",
      "metadata": {
        "id": "addeee83-9938-4a78-9d14-5e0a2e83a170"
      },
      "source": [
        "**Pertemuan 2: Basic Concept of Probability Theory**\n",
        "\n",
        "**Andreas Syaloom Kurniawan**"
      ]
    },
    {
      "cell_type": "markdown",
      "id": "81e73d14-1bc3-465a-8476-92b6b0739329",
      "metadata": {
        "id": "81e73d14-1bc3-465a-8476-92b6b0739329"
      },
      "source": [
        "## **A. Discrete Random Variable**\n",
        "<hr>\n",
        "\n",
        "### **A. 1 Probability Mass Function**\n",
        "\n",
        "### **A. 2 Cumulative Distribution Function**"
      ]
    },
    {
      "cell_type": "markdown",
      "id": "7d256784-cb01-4659-a131-680a71e79046",
      "metadata": {
        "id": "7d256784-cb01-4659-a131-680a71e79046"
      },
      "source": [
        "## **B. Continous Random Variable**\n",
        "<hr>\n",
        "\n",
        "### **B. 1 Probability Distribution Function**\n",
        "### **B. 2 Cumulative Distribution Function**"
      ]
    },
    {
      "cell_type": "markdown",
      "id": "8d9e8494-08fd-4c9b-9348-ca6fa609eec9",
      "metadata": {
        "id": "8d9e8494-08fd-4c9b-9348-ca6fa609eec9"
      },
      "source": [
        "## **C. Expectation and Variance of Random Variable**\n",
        "<hr>\n",
        "\n",
        "### **C.1 Variance of Random Variable**\n",
        "\n",
        "$$ var (x) = \\int_{-∞}^{∞} x f(x) dx $$\n",
        "\n",
        "### **C.2 Expectation of Random Variable**"
      ]
    },
    {
      "cell_type": "code",
      "execution_count": null,
      "id": "44d3b439-00da-4f82-b55a-2cee0c8e1aa5",
      "metadata": {
        "colab": {
          "base_uri": "https://localhost:8080/"
        },
        "id": "44d3b439-00da-4f82-b55a-2cee0c8e1aa5",
        "outputId": "8d539186-44a8-4c53-e9fb-d51c169915a3"
      },
      "outputs": [
        {
          "output_type": "stream",
          "name": "stdout",
          "text": [
            "[1] \"Expectation of g(X): 1\"\n",
            "[1] \"Estimation error: 1.16365266719307e-07\"\n"
          ]
        }
      ],
      "source": [
        "# Code for counting continous random variable\n",
        "# Define the function g(x)\n",
        "g <- function(x) {\n",
        "  x^2\n",
        "}\n",
        "\n",
        "# Define the probability density function of X\n",
        "# Assuming X ~ N(mu, sigma)\n",
        "mu <- 0\n",
        "sigma <- 1\n",
        "pdf <- function(x) {\n",
        "  dnorm(x, mean = mu, sd = sigma)\n",
        "}\n",
        "\n",
        "# Define the integrand as g(x) times the PDF of X\n",
        "integrand <- function(x) {\n",
        "  g(x) * pdf(x)\n",
        "}\n",
        "\n",
        "# Compute the expectation using numerical integration\n",
        "result <- integrate(integrand, lower = -Inf, upper = Inf)\n",
        "print(paste(\"Expectation of g(X):\", result$value))\n",
        "print(paste(\"Estimation error:\", result$abs.error))"
      ]
    },
    {
      "cell_type": "markdown",
      "id": "0c14b37b-f978-4d32-976c-8dd17a2fdf68",
      "metadata": {
        "id": "0c14b37b-f978-4d32-976c-8dd17a2fdf68"
      },
      "source": [
        "## **D. Moment and Moment Generating Function**\n",
        "<hr>\n",
        "\n",
        "### **D.1 Moment**\n",
        "### **D.2 Moment Generating Function**"
      ]
    }
  ],
  "metadata": {
    "kernelspec": {
      "display_name": "R",
      "language": "R",
      "name": "ir"
    },
    "language_info": {
      "codemirror_mode": "r",
      "file_extension": ".r",
      "mimetype": "text/x-r-source",
      "name": "R",
      "pygments_lexer": "r",
      "version": "4.4.1"
    },
    "colab": {
      "provenance": []
    }
  },
  "nbformat": 4,
  "nbformat_minor": 5
}